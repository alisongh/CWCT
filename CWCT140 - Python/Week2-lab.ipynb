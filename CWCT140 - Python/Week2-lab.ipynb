# Program name: lab1.py

#  Author: Liwen Huang
#  Course: Python Essentials
#  Date: 12/05/2021
#  Assignment: Module 2 - Lab
#  Purpose: Write two programs in Python

