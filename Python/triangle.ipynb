{
 "cells": [
  {
   "cell_type": "code",
   "execution_count": 1,
   "metadata": {},
   "outputs": [],
   "source": [
    "# Program name: triangle.py\n",
    "\n",
    "#  Author: Liwen Huang\n",
    "#  Course: Python Essentials\n",
    "#  Date: 11/5/2021\n",
    "#  Assignment: Module 3 - Distance Traveled\n",
    "#  Purpose: Determine triangle"
   ]
  },
  {
   "cell_type": "markdown",
   "metadata": {},
   "source": [
    "A triangle has three sides where the sum of the length of any (every) two of the sides must exceed the other side.\n",
    "\n",
    "In a right triangle, the square of the length of the longest side is equal to the sum of the squares of the lengths of the other two sides.\n",
    "\n",
    "In an isosceles triangle the length of any two of the sides must be equal.\n",
    "\n",
    "In an equilateral triangle the length of all three sides must be equal.\n",
    "\n",
    "Write a program that prompts the user to enter the lengths of three sides of a triangle. The program will output a message indicating:\n",
    "\n",
    "\n",
    "1. whether or not the lengths form a triangle and, if so, \n",
    "1. whether or not the triangle is\n",
    "   * a right triangle,\n",
    "   * an isosceles triangle, and/or \n",
    "   * an equilateral triangle.\n",
    "\n",
    "*Input Validation: Do not accept a number <= 0 for any side.*"
   ]
  },
  {
   "cell_type": "code",
   "execution_count": 5,
   "metadata": {},
   "outputs": [
    {
     "name": "stdout",
     "output_type": "stream",
     "text": [
      "Please enter positive number\n"
     ]
    }
   ],
   "source": [
    "side_a = float(input(\"Enter the length of side a:\"))\n",
    "side_b = float(input(\"Enter the length of side b:\"))\n",
    "side_c = float(input(\"Enter the length of side c:\"))\n",
    "\n",
    "def triangle_valid(a,b,c):\n",
    "    if a + b > c and b + c > a and a + c > b:\n",
    "        return True\n",
    "    else:\n",
    "        return False\n",
    "def right_triangle(a,b,c):\n",
    "    if (a**2 + b**2 == c**2) or (c**2 + b**2 == a**2) or (a**2 + c**2 == b**2):\n",
    "        return True\n",
    "    else:\n",
    "        return False\n",
    "def iso_triangle(a,b,c):\n",
    "    if a == b or a == c or b == c:\n",
    "        return True\n",
    "    else:\n",
    "        return False\n",
    "def equ_triangle(a,b,c):\n",
    "    if a == b == c:\n",
    "        return True\n",
    "    else:\n",
    "        return False\n",
    "\n",
    "if side_a <= 0 or side_b <= 0 or side_c <= 0:\n",
    "    print(\"Please enter positive number\")\n",
    "else:    \n",
    "    if triangle_valid(side_a, side_b, side_c):\n",
    "        print(\"This is a triangle\")\n",
    "        if right_triangle(side_a, side_b, side_c):\n",
    "            print(\"This is a right triangle\")\n",
    "        else:\n",
    "            pass\n",
    "        if iso_triangle(side_a, side_b, side_c):\n",
    "            print(\"This is an isosceles triangle\")\n",
    "            if equ_triangle(side_a, side_b, side_c):\n",
    "                print(\"This is also an equilateral triangle\")\n",
    "            else: \n",
    "                pass\n",
    "        else:\n",
    "            pass\n",
    "    else:\n",
    "        print(\"This is not a triangle\")"
   ]
  },
  {
   "cell_type": "code",
   "execution_count": null,
   "metadata": {},
   "outputs": [],
   "source": []
  }
 ],
 "metadata": {
  "interpreter": {
   "hash": "82ae3688cec8754d1729d86a7a583965f23606afd2cff6e2427aac190fb55b3d"
  },
  "kernelspec": {
   "display_name": "Python 3.10.0 64-bit",
   "language": "python",
   "name": "python3"
  },
  "language_info": {
   "codemirror_mode": {
    "name": "ipython",
    "version": 3
   },
   "file_extension": ".py",
   "mimetype": "text/x-python",
   "name": "python",
   "nbconvert_exporter": "python",
   "pygments_lexer": "ipython3",
   "version": "3.10.0"
  },
  "orig_nbformat": 4
 },
 "nbformat": 4,
 "nbformat_minor": 2
}
