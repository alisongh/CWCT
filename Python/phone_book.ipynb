{
 "cells": [
  {
   "cell_type": "code",
   "execution_count": 1,
   "metadata": {},
   "outputs": [],
   "source": [
    "# Program name: phone_book.py\n",
    "\n",
    "#  Author: Liwen Huang\n",
    "#  Course: Python Essentials\n",
    "#  Date: 11/28/2021\n",
    "#  Assignment: Module 1 - Phone book\n",
    "#  Purpose: Write a program that provides a menu-driven digital contact list to the user. \n",
    "#           The program should utilize a file containing names, phone numbers (number and \n",
    "#           type - such as Cell, Home, Work, etc.) and email addresses (address and type)"
   ]
  },
  {
   "cell_type": "code",
   "execution_count": 2,
   "metadata": {},
   "outputs": [
    {
     "name": "stdout",
     "output_type": "stream",
     "text": [
      "Press 1 to print phone numbers\n",
      "Press 2 to add a phone number\n",
      "Press 3 to remove a phone number\n",
      "Press 4 to lookup a phone number\n",
      "Press 5 to exit\n",
      "\n",
      "Add a new contact\n",
      "Telephone Numbers:\n",
      "Name:  Alison Huang \tNumber: 9191234567\n",
      "\n",
      "Lookup a contact\n",
      "The number is 9191234567\n",
      "Add a new contact\n"
     ]
    }
   ],
   "source": [
    "def phone_book():\n",
    "    print(\"Press 1 to print phone numbers\")\n",
    "    print(\"Press 2 to add a phone number\")\n",
    "    print(\"Press 3 to remove a phone number\")\n",
    "    print(\"Press 4 to lookup a phone number\")\n",
    "    print(\"Press 5 to exit\")\n",
    "    print()\n",
    "\n",
    "phone_num = {}\n",
    "menu_num = 0\n",
    "phone_book()\n",
    "while menu_num != 5:\n",
    "    menu_num = int(input(\"Please enter a number (1-5): \"))\n",
    "    if menu_num == 1:\n",
    "        print(\"Telephone Numbers:\")\n",
    "        for i in phone_num.keys():\n",
    "            print(\"Name: \", i, \"\\tNumber:\", phone_num[i])\n",
    "        print()\n",
    "    elif menu_num == 2:\n",
    "        print(\"Add a new contact\")\n",
    "        name = input(\"Please type the full name\")\n",
    "        phone = input(\"Please type the phone number\")\n",
    "        phone_num[name] = phone\n",
    "    elif menu_num == 3:\n",
    "        print(\"Remove a contact\")\n",
    "        name = input(\"Please type the name you want to remove\")\n",
    "        if name in phone_num:\n",
    "            del phone_num[name]\n",
    "        else:\n",
    "            print(name, \"is not found\")\n",
    "    elif menu_num == 4:\n",
    "        print(\"Lookup a contact\")\n",
    "        name = input(\"Please type the full name\")\n",
    "        if name in phone_num:\n",
    "            print(\"The number is\", phone_num[name])\n",
    "        else:\n",
    "            print(name, \"is not found\")\n",
    "    elif menu_num != 5:\n",
    "        phone_book()"
   ]
  },
  {
   "cell_type": "code",
   "execution_count": null,
   "metadata": {},
   "outputs": [],
   "source": []
  }
 ],
 "metadata": {
  "interpreter": {
   "hash": "62557539030fa4ca234f3d6128a46845541547f28f26a3244fb486b140c0babf"
  },
  "kernelspec": {
   "display_name": "Python 3.9.8 64-bit",
   "language": "python",
   "name": "python3"
  },
  "language_info": {
   "codemirror_mode": {
    "name": "ipython",
    "version": 3
   },
   "file_extension": ".py",
   "mimetype": "text/x-python",
   "name": "python",
   "nbconvert_exporter": "python",
   "pygments_lexer": "ipython3",
   "version": "3.9.8"
  },
  "orig_nbformat": 4
 },
 "nbformat": 4,
 "nbformat_minor": 2
}
