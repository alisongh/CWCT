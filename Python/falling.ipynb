{
 "cells": [
  {
   "cell_type": "code",
   "execution_count": 1,
   "metadata": {},
   "outputs": [],
   "source": [
    "# Program name: falling.py\n",
    "\n",
    "#  Author: Liwen Huang\n",
    "#  Course: Python Essentials\n",
    "#  Date: 11/11/2021\n",
    "#  Assignment: Module 4 - Falling Distance\n",
    "#  Purpose: Calculate falling distance"
   ]
  },
  {
   "cell_type": "markdown",
   "metadata": {},
   "source": [
    "When an object is falling because of gravity, the following formula can be used to determine the distance the object falls in a specific time period:\n",
    "\n",
    "$$d = \\frac{1}{2}\\  gt^2 $$\n",
    "\n",
    "The variables in the formula are as follows: $d$ is the distance in meters, $g$ is 9.8, and $t$ is the amount of time, in seconds, that the object has been falling.\n",
    "\n",
    "Write a function named **fallingDistance** that accepts an object’s falling time (in seconds) as an argument. The function should return the distance, in meters, that the object has fallen during that time interval. Write a program that demonstrates the function by prompting the user for the total time and calling the function in a loop that passes the time values in 5 second increments as the argument and displays the elapsed time and return value. The output should have a header identifying the column names and tabular formatted values (values displayed are to illustrate formatting only):\n",
    "\n",
    "|Time|Distance|\n",
    "|----|----|\n",
    "|0|0.0|\n",
    "|5|30.0|\n",
    "|10|45.0|\n",
    "|15|52.0|"
   ]
  },
  {
   "cell_type": "code",
   "execution_count": 3,
   "metadata": {},
   "outputs": [],
   "source": [
    "# pip install prettytable"
   ]
  },
  {
   "cell_type": "code",
   "execution_count": 4,
   "metadata": {},
   "outputs": [],
   "source": [
    "# uncommon the above code to install prettytable library\n",
    "from prettytable import PrettyTable"
   ]
  },
  {
   "cell_type": "code",
   "execution_count": 11,
   "metadata": {},
   "outputs": [],
   "source": [
    "\n",
    "def fallingDistance():\n",
    "    time = int(input(\"Enter the times equal or larger than 1\"))\n",
    "    # g=9.8 is a given condition\n",
    "    g = 9.8\n",
    "    # create a new table\n",
    "    table = PrettyTable(['Time', 'Distance'])\n",
    "    \n",
    "    for i in range(0, time * 5, 5):\n",
    "      # calculate the distance\n",
    "      distance = round(0.5 * g * i**2, 2)\n",
    "      # insert the new value to the table\n",
    "      table.add_row([i, distance])\n",
    "      \n",
    "    print(table)"
   ]
  },
  {
   "cell_type": "code",
   "execution_count": 12,
   "metadata": {},
   "outputs": [
    {
     "name": "stdout",
     "output_type": "stream",
     "text": [
      "+------+----------+\n",
      "| Time | Distance |\n",
      "+------+----------+\n",
      "|  0   |   0.0    |\n",
      "|  5   |  122.5   |\n",
      "|  10  |  490.0   |\n",
      "|  15  |  1102.5  |\n",
      "|  20  |  1960.0  |\n",
      "|  25  |  3062.5  |\n",
      "+------+----------+\n"
     ]
    }
   ],
   "source": [
    "fallingDistance()"
   ]
  },
  {
   "cell_type": "code",
   "execution_count": null,
   "metadata": {},
   "outputs": [],
   "source": []
  }
 ],
 "metadata": {
  "interpreter": {
   "hash": "82ae3688cec8754d1729d86a7a583965f23606afd2cff6e2427aac190fb55b3d"
  },
  "kernelspec": {
   "display_name": "Python 3.10.0 64-bit",
   "language": "python",
   "name": "python3"
  },
  "language_info": {
   "codemirror_mode": {
    "name": "ipython",
    "version": 3
   },
   "file_extension": ".py",
   "mimetype": "text/x-python",
   "name": "python",
   "nbconvert_exporter": "python",
   "pygments_lexer": "ipython3",
   "version": "3.9.8"
  },
  "orig_nbformat": 4
 },
 "nbformat": 4,
 "nbformat_minor": 2
}
