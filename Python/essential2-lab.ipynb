{
 "cells": [
  {
   "cell_type": "code",
   "execution_count": 1,
   "metadata": {},
   "outputs": [],
   "source": [
    "# Program name: lab1.py\n",
    "\n",
    "#  Author: Liwen Huang\n",
    "#  Course: Python Essentials\n",
    "#  Date: 12/05/2021\n",
    "#  Assignment: Module 2 - Lab\n",
    "#  Purpose: Write two programs in Python"
   ]
  },
  {
   "cell_type": "markdown",
   "metadata": {},
   "source": [
    "## Lab 1: \n",
    "Write a program that prompts the user to enter time in 24-hour notation (e.g. 18:23:47). The program then calls a function to convert the time into 12-hour notation with an appended “AM” or “PM” (e.g.  6:23:47 PM). Your program must contain three user defined exceptions: invalidHr, invalidMin, and invalidSec. If the user enters an invalid value for hours, then the function should throw an invalidHr exception. Follow similar conventions for the invalid values of minutes and seconds. The program should catch/handle the exceptions, display an appropriate message, and re-prompt the user for the time."
   ]
  },
  {
   "cell_type": "code",
   "execution_count": 2,
   "metadata": {},
   "outputs": [],
   "source": [
    "class invalidHr(Exception):\n",
    "    def __init__(self, message):\n",
    "        if len(message) > 0:\n",
    "            self.message = message\n",
    "        else:\n",
    "            self.message = \"Hour input is invalid: hour must be between 0 and 60\""
   ]
  },
  {
   "cell_type": "code",
   "execution_count": 3,
   "metadata": {},
   "outputs": [],
   "source": [
    "class invalidMin(Exception):\n",
    "    def __init__(self, message):\n",
    "        if len(message) > 0:\n",
    "            self.message = message\n",
    "        else:\n",
    "            self.message = \"Minute input is invalid: minute must be between 0 and 60\""
   ]
  },
  {
   "cell_type": "code",
   "execution_count": 4,
   "metadata": {},
   "outputs": [],
   "source": [
    "class invalidSec(Exception):\n",
    "    def __init__(self, message):\n",
    "        if len(message) > 0:\n",
    "            self.message = message\n",
    "        else:\n",
    "            self.message = \"Second input is invalid: second must be between 0 and 60\""
   ]
  },
  {
   "cell_type": "code",
   "execution_count": 5,
   "metadata": {},
   "outputs": [],
   "source": [
    "def accrueHour(s):\n",
    "    if (s < 0 or s > 60):\n",
    "        raise invalidHr(\"Hour Error Message\")\n",
    "    print(\"Your hour was: \", s)\n",
    "\n",
    "def accrueMin(s):\n",
    "    if (s < 0 or s > 60):\n",
    "        raise invalidMin(\"Minute Error Message\")\n",
    "    print(\"Your minute was: \", s)\n",
    "\n",
    "def accrueSec(s):\n",
    "    if (s < 0 or s > 60):\n",
    "        raise invalidSec(\"Second Error Message\")\n",
    "    print(\"Your second was: \", s)"
   ]
  },
  {
   "cell_type": "code",
   "execution_count": 8,
   "metadata": {},
   "outputs": [],
   "source": [
    "def TimeConversion():\n",
    "    hour = int(input(\"Enter hour between 0 and 24: \"))\n",
    "    accrueHour(hour)\n",
    "    minute = int(input(\"Enter minute between 0 to 60: \"))\n",
    "    accrueMin(minute)\n",
    "    sec = int(input(\"Enter second between 0 to 60: \"))\n",
    "    accrueSec(sec)\n",
    "\n",
    "    if hour < 12:\n",
    "        if len(str(hour)) == 1:\n",
    "            temp = \"0\" + str(hour) + \":\" + str(minute) + \":\" + str(sec) + \" AM\"\n",
    "        else:\n",
    "            temp = str(hour) + \":\" + str(minute) + \":\" + str(sec) + \" AM\"\n",
    "    else: \n",
    "        x = hour - 12\n",
    "        if x == 0:\n",
    "            temp = \"12\" + \":\" + str(minute) + \":\" + str(sec) + \" PM\"\n",
    "        if len(str(x)) == 1: \n",
    "            temp = \"0\" + str(x) + \":\" + str(minute) + \":\" + str(sec) + \" PM\"\n",
    "        else: \n",
    "            temp = str(x) + \":\" + str(minute) + \":\" + str(sec) + \" PM\"\n",
    "\n",
    "    print(temp)\n"
   ]
  },
  {
   "cell_type": "code",
   "execution_count": 9,
   "metadata": {},
   "outputs": [
    {
     "name": "stdout",
     "output_type": "stream",
     "text": [
      "Your hour was:  22\n",
      "Your minute was:  32\n",
      "Your second was:  44\n",
      "10:32:44 PM\n"
     ]
    }
   ],
   "source": [
    "TimeConversion()"
   ]
  },
  {
   "cell_type": "markdown",
   "metadata": {},
   "source": [
    "## Lab 2:\n",
    "Write a program that prompts the user to enter a length in feet and inches (e.g. 12’8”) and calls a function to convert the value to the equivalent length in centimeters. Your program must contain two user defined exceptions: invalidFeet, and invalidInches. If the user enters negative numbers, a nondigit value, or the number of inches exceeds 12, the function should throw an appropriate exception. The main program should handle the exception, indicate an appropriate message, and prompt the user to enter another set of numbers.\n"
   ]
  },
  {
   "cell_type": "code",
   "execution_count": 26,
   "metadata": {},
   "outputs": [],
   "source": [
    "class invalidFeet(Exception):\n",
    "    def __init__(self,message):\n",
    "        if len(message) > 0:\n",
    "            self.message = message \n",
    "        else: \n",
    "            self.message = \"Feet input is invalid: Feet must be larger than 0\""
   ]
  },
  {
   "cell_type": "code",
   "execution_count": 27,
   "metadata": {},
   "outputs": [],
   "source": [
    "class invalidInches(Exception):\n",
    "    def __init__(self,message):\n",
    "        if len(message) > 0:\n",
    "            self.message = message\n",
    "        else: \n",
    "            self.message = \"Inches input is invalid: Inches must be larger than 0\""
   ]
  },
  {
   "cell_type": "code",
   "execution_count": 31,
   "metadata": {},
   "outputs": [],
   "source": [
    "def accrueFeet(s):\n",
    "    try:\n",
    "        if (s < 0):\n",
    "            raise invalidFeet(\"Invalid input. Please enter a positive integer\")\n",
    "    except ValueError:\n",
    "        print(\"Invalid input. Please enter a positive integer\")\n",
    "\n",
    "def accrueInches(s):\n",
    "    try:\n",
    "        if (s < 0 or s >12):\n",
    "            raise invalidInches(\"Invalid input. Please enter a positive integer\")\n",
    "    except ValueError:\n",
    "        print(\"Invalid input. Please enter a positive integer\")\n",
    "\n"
   ]
  },
  {
   "cell_type": "code",
   "execution_count": 36,
   "metadata": {},
   "outputs": [],
   "source": [
    "def InchesToCM():\n",
    "    feet = int(input(\"Enter the value in feet: \"))\n",
    "    accrueFeet(feet)\n",
    "    inch = int(input(\"Enter the value in inch: \"))\n",
    "    accrueInches(inch)\n",
    "\n",
    "    inch += feet * 12\n",
    "    cm_value = round(inch * 2.54, 2)\n",
    "    print(cm_value, \"cm\")"
   ]
  },
  {
   "cell_type": "code",
   "execution_count": 39,
   "metadata": {},
   "outputs": [
    {
     "name": "stdout",
     "output_type": "stream",
     "text": [
      "165.1 cm\n"
     ]
    }
   ],
   "source": [
    "InchesToCM()"
   ]
  },
  {
   "cell_type": "code",
   "execution_count": null,
   "metadata": {},
   "outputs": [],
   "source": []
  }
 ],
 "metadata": {
  "interpreter": {
   "hash": "62557539030fa4ca234f3d6128a46845541547f28f26a3244fb486b140c0babf"
  },
  "kernelspec": {
   "display_name": "Python 3.9.8 64-bit",
   "language": "python",
   "name": "python3"
  },
  "language_info": {
   "codemirror_mode": {
    "name": "ipython",
    "version": 3
   },
   "file_extension": ".py",
   "mimetype": "text/x-python",
   "name": "python",
   "nbconvert_exporter": "python",
   "pygments_lexer": "ipython3",
   "version": "3.10.0"
  },
  "orig_nbformat": 4
 },
 "nbformat": 4,
 "nbformat_minor": 2
}
