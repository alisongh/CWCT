{
 "cells": [
  {
   "cell_type": "code",
   "execution_count": 1,
   "metadata": {},
   "outputs": [],
   "source": [
    "# Program name: area_circle.py\n",
    "\n",
    "#  Author: Liwen Huang\n",
    "#  Course: Python Essentials\n",
    "#  Date: 11/11/2021\n",
    "#  Assignment: Module 4 - Area of a Circle\n",
    "#  Purpose: Calculate area of a circle"
   ]
  },
  {
   "cell_type": "markdown",
   "metadata": {},
   "source": [
    "The following formula gives the distance between two points, $(x_1, y_1)$ and $(x_2, y_2)$ in the Cartesian plane:\n",
    "\n",
    "$$\\sqrt{(x_2 - x_1)^2 + (y_2 - y_1)^2}$$\n",
    "\n",
    "Given the center and a point on the circle, you can use this formula to find the radius of the circle. Write a program that prompts the user to enter the center and a point on the circle (two tuples containing an x and y value). The program should then output the circle’s radius, diameter, circumference, and area. Your program must have at least the following functions:\n",
    "\n",
    "**calculateRadius**: Receives the x-y coordinates of the center and point on the circle (as input by the user) and calculates the distance between the points. This value is returned as the radius of the circle.\n",
    "\n",
    "**calculateArea**: Receives the radius of a circle, calculates and returns the area of the circle.\n",
    "\n",
    "**calculatePerimeter**: Receives the radius of a circle, calculates and returns the perimeter of the circle.\n",
    "\n",
    "The output should clearly display the radius, area, and perimeter of the resulting circle."
   ]
  },
  {
   "cell_type": "code",
   "execution_count": 1,
   "metadata": {},
   "outputs": [],
   "source": [
    "import math"
   ]
  },
  {
   "cell_type": "code",
   "execution_count": 19,
   "metadata": {},
   "outputs": [],
   "source": [
    "def calculateRadius(x1, x2, y1, y2):\n",
    "    distance = math.sqrt((x2 - x1)**2 + (y2 - y1)**2)\n",
    "    return print(\"The radius of the circle is \",round(distance, 2))\n",
    "\n",
    "def calculateArea(radius):\n",
    "    area = math.pi * radius ** 2\n",
    "    return print(\"The area of the circle is \", round(area, 2))\n",
    "\n",
    "def calculatePerimeter(radius):\n",
    "    perimeter = 2 * math.pi * radius\n",
    "    return print(\"The perimeter of the circle is \", round(perimeter, 2))"
   ]
  },
  {
   "cell_type": "code",
   "execution_count": 23,
   "metadata": {},
   "outputs": [
    {
     "name": "stdout",
     "output_type": "stream",
     "text": [
      "The radius of the circle is  32.89\n"
     ]
    }
   ],
   "source": [
    "calculateRadius(25, -6, 2, 13)"
   ]
  },
  {
   "cell_type": "code",
   "execution_count": 25,
   "metadata": {},
   "outputs": [
    {
     "name": "stdout",
     "output_type": "stream",
     "text": [
      "The area of the circle is  78.54\n"
     ]
    }
   ],
   "source": [
    "calculateArea(5)"
   ]
  },
  {
   "cell_type": "code",
   "execution_count": 26,
   "metadata": {},
   "outputs": [
    {
     "name": "stdout",
     "output_type": "stream",
     "text": [
      "The perimeter of the circle is  31.42\n"
     ]
    }
   ],
   "source": [
    "calculatePerimeter(5)"
   ]
  },
  {
   "cell_type": "code",
   "execution_count": null,
   "metadata": {},
   "outputs": [],
   "source": []
  }
 ],
 "metadata": {
  "interpreter": {
   "hash": "82ae3688cec8754d1729d86a7a583965f23606afd2cff6e2427aac190fb55b3d"
  },
  "kernelspec": {
   "display_name": "Python 3.10.0 64-bit",
   "language": "python",
   "name": "python3"
  },
  "language_info": {
   "codemirror_mode": {
    "name": "ipython",
    "version": 3
   },
   "file_extension": ".py",
   "mimetype": "text/x-python",
   "name": "python",
   "nbconvert_exporter": "python",
   "pygments_lexer": "ipython3",
   "version": "3.9.8"
  },
  "orig_nbformat": 4
 },
 "nbformat": 4,
 "nbformat_minor": 2
}
