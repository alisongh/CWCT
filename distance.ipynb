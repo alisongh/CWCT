{
 "cells": [
  {
   "cell_type": "code",
   "execution_count": 28,
   "metadata": {},
   "outputs": [],
   "source": [
    "# Program name: distance.py\n",
    "\n",
    "#  Author: Liwen Huang\n",
    "#  Course: Python Essentials\n",
    "#  Date: 11/5/2021\n",
    "#  Assignment: Module 3 - Distance Traveled\n",
    "#  Purpose: Calculate Distance Traveled"
   ]
  },
  {
   "cell_type": "markdown",
   "metadata": {},
   "source": [
    "The distance a vehicle travels can be calculated as follows:\n",
    "\n",
    "$$distance = speed \\times time$$\n",
    "\n",
    "For example, if a train travels 40 miles per hour for 3 hours, the distance traveled is 120 miles.\n",
    "\n",
    "Write a program that asks the user for the speed of a vehicle (in miles per hour) and how many hours it has traveled. The program should then use a loop to display the distance the vehicle has traveled for each hour of that time period. Here is an example of the output:\n",
    "\n",
    "* What is the speed of the vehicle in mph? 40\n",
    "* How many hours has it traveled? 3\n",
    "\n",
    "|Hour|Distance Traveled|\n",
    "|----|----|\n",
    "|1  | 40|\n",
    "|2  | 80|\n",
    "|3  | 120|\n",
    "\n",
    "*Input Validation: Do not accept a negative number for speed and do not accept any value less than 1 for time traveled.*"
   ]
  },
  {
   "cell_type": "code",
   "execution_count": 15,
   "metadata": {},
   "outputs": [],
   "source": [
    "#pip install prettytable"
   ]
  },
  {
   "cell_type": "code",
   "execution_count": 2,
   "metadata": {},
   "outputs": [],
   "source": [
    "# uncommon the above code to install prettytable library\n",
    "from prettytable import PrettyTable"
   ]
  },
  {
   "cell_type": "code",
   "execution_count": 3,
   "metadata": {},
   "outputs": [
    {
     "name": "stdout",
     "output_type": "stream",
     "text": [
      "What is the speed of the vehicle in mph? 20.0\n",
      "How many hours has it traveled? 5\n",
      "+-------+-----------+\n",
      "| Hours | Distances |\n",
      "+-------+-----------+\n",
      "|   1   |    20.0   |\n",
      "|   2   |    40.0   |\n",
      "|   3   |    60.0   |\n",
      "|   4   |    80.0   |\n",
      "|   5   |   100.0   |\n",
      "+-------+-----------+\n"
     ]
    }
   ],
   "source": [
    "speed = float(input(\"What is the speed of the vehicle in mph?\"))\n",
    "# not accept a negative number for speed\n",
    "while(speed < 0):\n",
    "    speed = float(input(\"Negative speed input. What is the speed of the vehicle in mph?\"))\n",
    "time = int(input(\"How many hours has it traveled?\"))\n",
    "# not accept any value less than 1 for time traveled\n",
    "while(time <= 1):\n",
    "    time = int(input(\"Invalid input. How many hours has it traveled?\")) \n",
    "\n",
    "table = PrettyTable(['Hours', 'Distances'])\n",
    "lst = []\n",
    "\n",
    "for i in range(1, time + 1):\n",
    "    # calculate the distance\n",
    "    distance = i*speed\n",
    "    # add the new distance output to the list\n",
    "    lst.append(distance)\n",
    "    # insert the new list item to the table\n",
    "    table.add_row([i, distance])\n",
    "    \n",
    "print(\"What is the speed of the vehicle in mph?\", speed)\n",
    "print(\"How many hours has it traveled?\", time)\n",
    "print(table)"
   ]
  },
  {
   "cell_type": "code",
   "execution_count": null,
   "metadata": {},
   "outputs": [],
   "source": []
  }
 ],
 "metadata": {
  "interpreter": {
   "hash": "82ae3688cec8754d1729d86a7a583965f23606afd2cff6e2427aac190fb55b3d"
  },
  "kernelspec": {
   "display_name": "Python 3.10.0 64-bit",
   "language": "python",
   "name": "python3"
  },
  "language_info": {
   "codemirror_mode": {
    "name": "ipython",
    "version": 3
   },
   "file_extension": ".py",
   "mimetype": "text/x-python",
   "name": "python",
   "nbconvert_exporter": "python",
   "pygments_lexer": "ipython3",
   "version": "3.9.8"
  },
  "orig_nbformat": 4
 },
 "nbformat": 4,
 "nbformat_minor": 2
}
